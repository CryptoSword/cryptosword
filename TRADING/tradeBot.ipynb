{
 "cells": [
  {
   "cell_type": "markdown",
   "metadata": {},
   "source": [
    "## Altcoin Trading"
   ]
  },
  {
   "cell_type": "markdown",
   "metadata": {},
   "source": [
    "### Setup"
   ]
  },
  {
   "cell_type": "code",
   "execution_count": 15,
   "metadata": {
    "collapsed": true
   },
   "outputs": [],
   "source": [
    "import unittest, os, time\n",
    "import json as json\n",
    "from datetime import datetime\n",
    "from pymarketcap import Pymarketcap\n",
    "from bittrex.bittrex import Bittrex, API_V2_0, API_V1_1, BUY_ORDERBOOK, TICKINTERVAL_ONEMIN\n",
    "\n",
    "# constants\n",
    "IS_CI_ENV = True if 'IN_CI' in os.environ else False\n",
    "TICKINTERVAL_ONEMIN = 'oneMin'\n",
    "TICKINTERVAL_FIVEMIN = 'fiveMin'\n",
    "TICKINTERVAL_HOUR = 'hour'\n",
    "TICKINTERVAL_THIRTYMIN = 'thirtyMin'\n",
    "TICKINTERVAL_DAY = 'Day'\n",
    "STATS_HOUR = '1h'\n",
    "STATS_DAY = '24h'\n",
    "STATS_WEEK = '7d'"
   ]
  },
  {
   "cell_type": "markdown",
   "metadata": {},
   "source": [
    "### Bittrex and CoinMarketCap Integration"
   ]
  },
  {
   "cell_type": "code",
   "execution_count": 14,
   "metadata": {},
   "outputs": [],
   "source": [
    "# Need API keys for real-world Buy/Sell operations\n",
    "#with open(\"secrets.json\") as secrets_file:\n",
    "#    secrets = json.load(secrets_file)\n",
    "#    secrets_file.close()\n",
    "#bittrex = Bittrex(secrets['key'], secrets['secret'], api_version=API_V1_1)\n",
    "\n",
    "# without API keys (public functions)\n",
    "bittrex = Bittrex(None,None,api_version=API_V1_1)\n",
    "coinmarketcap = Pymarketcap()"
   ]
  },
  {
   "cell_type": "markdown",
   "metadata": {},
   "source": [
    "### Useful Library Wrappers"
   ]
  },
  {
   "cell_type": "code",
   "execution_count": null,
   "metadata": {
    "collapsed": true
   },
   "outputs": [],
   "source": [
    "# INPUT:  ticker (string)\n",
    "# OUTPUT: available balance (float)\n",
    "def get_avail_balance(coin):\n",
    "    return bittrex.get_balance(coin)['result']['Available']\n",
    "\n",
    "# INPUT:  number_top_coins (int)\n",
    "# OUTPUT: top N coin summaries\n",
    "def get_all_markets(self):\n",
    "    coins = bittrex.get_markets()['result']\n",
    "    return [coins[i]['MarketName'] for i in range(len(coins))]\n",
    "\n",
    "# INPUT:  market pair (string)\n",
    "# OUTPUT: current ask price\n",
    "def get_ask_price(market):\n",
    "    return bittrex.get_ticker(market)['result']['Ask']\n",
    "\n",
    "# INPUT:  coin symbol (string)\n",
    "# OUTPUT: whether coin is available on Bittrex (Bool)\n",
    "def is_on_bittrex(coin):\n",
    "    markets = get_all_markets(None)\n",
    "    name = 'BTC-'+coin\n",
    "    c = bittrex.get_currencies()['result']\n",
    "    currencies = [c[i]['Currency'] for i in range(len(c))]\n",
    "    if coin in currencies and name in markets:\n",
    "        return True\n",
    "    return False\n",
    "\n",
    "# INPUT:  num_coins (int)\n",
    "# OUTPUT: list of coin symbols (string list)\n",
    "def get_n_gainers(time, n):\n",
    "    ret = []\n",
    "    j = 0\n",
    "    gainers = coinmarketcap.ranks('gainers',time)[time]\n",
    "    for coin in gainers:\n",
    "        if is_on_bittrex(coin['symbol']):\n",
    "            ret.append(coin['symbol'])\n",
    "            j += 1\n",
    "        if j == n:\n",
    "            break\n",
    "    return (len(ret), list(ret))\n",
    "\n",
    "# INPUT:  num_coins (int)\n",
    "# OUTPUT: list of coin symbols (string list)\n",
    "def get_n_losers(time, n):\n",
    "    ret = []\n",
    "    j = 0\n",
    "    losers = coinmarketcap.ranks('losers',time)[time]\n",
    "    for coin in losers:\n",
    "        if is_on_bittrex(coin['symbol']):\n",
    "            ret.append(coin['symbol'])\n",
    "            j += 1\n",
    "        if j == n:\n",
    "            break\n",
    "    return (len(ret), list(ret))\n",
    "\n",
    "def sort_coins_by_vol(coins):\n",
    "    #coins.sort(key=operator.itemgetter('24h_volume_usd'))\n",
    "    return sorted(coins, key=lambda k: k['24h_volume_usd']) "
   ]
  },
  {
   "cell_type": "markdown",
   "metadata": {},
   "source": [
    "### Simulator"
   ]
  },
  {
   "cell_type": "code",
   "execution_count": 12,
   "metadata": {
    "collapsed": true
   },
   "outputs": [],
   "source": [
    "class Simulator:\n",
    "    \n",
    "    # initialize\n",
    "    def __init__(self, tx_fee=0.01, start=1.0, verbose=False):\n",
    "        self.start = start\n",
    "        self.btc = start\n",
    "        self.tx_fee = 0.01\n",
    "        self.verbose = verbose\n",
    "        self.holdings = 0.0\n",
    "        self.fees_paid = 0.0 \n",
    "        if verbose is True:\n",
    "            print(\"Simulator initialized.\")\n",
    "    \n",
    "    # get current balance (in BTC)\n",
    "    def get_btc_balance(self):\n",
    "        return self.btc\n",
    "    \n",
    "    # print current balance (in BTC)\n",
    "    def print_balance(self):\n",
    "        print(\"Simulator BTC Balance: %.5f (start = %.2f)\" % (self.btc, self.start))   \n",
    "    \n",
    "    # print change between starting and current balances\n",
    "    def print_change(self):\n",
    "        x = ((-1 * self.fees_paid) + (-1 * self.holdings)) / self.start * 100.0\n",
    "        print(\"Net change in value was %.3f%%\" % x)\n",
    "    \n",
    "    # BUY order\n",
    "    def buy(self, coin, amt_in_btc):\n",
    "        start = time.time()\n",
    "        # get market price\n",
    "        price = get_ask_price('BTC-'+str(coin))\n",
    "        if price is None:\n",
    "            return 0\n",
    "        # calculate how many coins we can buy (factoring in fee)\n",
    "        num_to_buy = ((1.0 - self.tx_fee) * amt_in_btc) / price\n",
    "        self.fees_paid += self.tx_fee * amt_in_btc\n",
    "        self.btc -= amt_in_btc\n",
    "        self.holdings += num_to_buy * price\n",
    "        if self.verbose is True:\n",
    "            print(str(datetime.now())+\" - bought %.3f %s at %.7f BTC for a total purchase of %.7f BTC.\" % (num_to_buy, coin, price, amt_in_btc))\n",
    "            #print(\"Buy execution time: %.2f s\" % (time.time()-start))\n",
    "        return num_to_buy       \n",
    "    \n",
    "    # SELL order\n",
    "    def sell(self, coin, num):\n",
    "        start = time.time()\n",
    "        price = get_ask_price('BTC-'+str(coin))\n",
    "        if price is None:\n",
    "            return 0\n",
    "        amt_profit = (1.0 - self.tx_fee) * num * price\n",
    "        self.fees_paid += self.tx_fee * num * price\n",
    "        self.btc += amt_profit\n",
    "        self.holdings -= num * price\n",
    "        if self.verbose is True:\n",
    "            print(str(datetime.now())+\" - sold %.3f %s at %.7f BTC for a total sale of %.7f BTC.\" % (num, coin, price, amt_profit))\n",
    "            #print(\"Sell execution time: %.2f s\" % (time.time()-start))\n",
    "        return num     "
   ]
  },
  {
   "cell_type": "markdown",
   "metadata": {},
   "source": [
    "### Strategy 1:  Top-N Flip"
   ]
  },
  {
   "cell_type": "code",
   "execution_count": 13,
   "metadata": {
    "collapsed": true
   },
   "outputs": [],
   "source": [
    "# buy and sell the top N coins by hourly market gain\n",
    "class TopNTrader:\n",
    "    \n",
    "    # initialize\n",
    "    def __init__(self, top_n=3, mins_to_wait=5, mins_to_run=60, verbose=False, strategy=STATS_HOUR):\n",
    "        self.top_n = top_n\n",
    "        self.verbose = verbose\n",
    "        self.strategy = strategy\n",
    "        self.mins_to_wait = mins_to_wait\n",
    "        self.mins_to_run = mins_to_run\n",
    "        self.num_bought = [0]*self.top_n\n",
    "        self.num_sold = [0]*self.top_n\n",
    "        self.balance = 0.0\n",
    "        self.coins = []\n",
    "        if verbose is True:\n",
    "            print(\"TopNTrader initialized.\")\n",
    "    \n",
    "    # get top N coins according to strategy (either losers or gainers)\n",
    "    def get_top_n(self):\n",
    "        (l, x) = get_n_losers(self.strategy, self.top_n)\n",
    "        self.top_n = l\n",
    "        return x\n",
    "    \n",
    "    # pause\n",
    "    def wait(self):\n",
    "        if self.verbose is True:\n",
    "            print(\"Waiting for %.2f minutes...\" % self.mins_to_wait)\n",
    "        time.sleep(self.mins_to_wait * 60.0)        \n",
    "    \n",
    "    # BUY hook (invokes user-specified BUY function)\n",
    "    def buy(self, f_buy):\n",
    "        self.coins = self.get_top_n()\n",
    "        for i in range(self.top_n):\n",
    "            self.num_bought[i] = f_buy(self.coins[i], (self.balance/self.top_n))  \n",
    "    \n",
    "    # SELL hook (invokes user-specified SELL function)\n",
    "    def sell(self, f_sell):\n",
    "        for i in range(self.top_n):\n",
    "            self.num_sold[i] = f_sell(self.coins[i], self.num_bought[i])\n",
    "    \n",
    "    # main trading loop\n",
    "    def trade(self, f_buy, f_sell, sim):\n",
    "        timeout = time.time() + 60*self.mins_to_run\n",
    "        while time.time() < timeout:\n",
    "            self.balance = sim.get_btc_balance()\n",
    "            self.buy(f_buy)\n",
    "            self.wait()\n",
    "            self.sell(f_sell)\n",
    "            if self.verbose is True:\n",
    "                print(\"%.2f minutes remaining...\" % ((timeout-time.time())/60))"
   ]
  },
  {
   "cell_type": "markdown",
   "metadata": {},
   "source": [
    "### SIMULATE AUTOTRADING"
   ]
  },
  {
   "cell_type": "code",
   "execution_count": null,
   "metadata": {},
   "outputs": [],
   "source": [
    "# simulator instance\n",
    "sim = Simulator(tx_fee = 0.0007, verbose = True, start=1.0)    \n",
    "\n",
    "# Top-N Trader instance\n",
    "top_n = TopNTrader(top_n=10,mins_to_wait=0,mins_to_run=5,verbose=True, strategy=STATS_DAY)\n",
    "\n",
    "# trade\n",
    "top_n.trade(sim.buy, sim.sell, sim)\n",
    "\n",
    "# results\n",
    "sim.print_balance()\n",
    "sim.print_change()"
   ]
  }
 ],
 "metadata": {
  "kernelspec": {
   "display_name": "Python 2",
   "language": "python",
   "name": "python2"
  },
  "language_info": {
   "codemirror_mode": {
    "name": "ipython",
    "version": 2
   },
   "file_extension": ".py",
   "mimetype": "text/x-python",
   "name": "python",
   "nbconvert_exporter": "python",
   "pygments_lexer": "ipython2",
   "version": "2.7.13"
  }
 },
 "nbformat": 4,
 "nbformat_minor": 2
}
