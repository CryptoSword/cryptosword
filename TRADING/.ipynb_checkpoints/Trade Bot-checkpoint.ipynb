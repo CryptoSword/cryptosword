{
 "cells": [
  {
   "cell_type": "markdown",
   "metadata": {},
   "source": [
    "## Altcoin Trading"
   ]
  },
  {
   "cell_type": "markdown",
   "metadata": {},
   "source": [
    "### Setup"
   ]
  },
  {
   "cell_type": "code",
   "execution_count": 1,
   "metadata": {
    "collapsed": true
   },
   "outputs": [],
   "source": [
    "import unittest, os, time\n",
    "import json as json\n",
    "from datetime import datetime\n",
    "from pymarketcap import Pymarketcap\n",
    "from bittrex.bittrex import Bittrex, API_V2_0, API_V1_1, BUY_ORDERBOOK, TICKINTERVAL_ONEMIN\n",
    "\n",
    "IS_CI_ENV = True if 'IN_CI' in os.environ else False\n",
    "TICKINTERVAL_ONEMIN = 'oneMin'\n",
    "TICKINTERVAL_FIVEMIN = 'fiveMin'\n",
    "TICKINTERVAL_HOUR = 'hour'\n",
    "TICKINTERVAL_THIRTYMIN = 'thirtyMin'\n",
    "TICKINTERVAL_DAY = 'Day'\n",
    "STATS_HOUR = '1h'\n",
    "STATS_DAY = '24h'\n",
    "STATS_WEEK = '7d'"
   ]
  },
  {
   "cell_type": "markdown",
   "metadata": {},
   "source": [
    "### Bittrex and CoinMarketCap Integration"
   ]
  },
  {
   "cell_type": "code",
   "execution_count": 2,
   "metadata": {
    "collapsed": true
   },
   "outputs": [],
   "source": [
    "with open(\"secrets.json\") as secrets_file:\n",
    "    secrets = json.load(secrets_file)\n",
    "    secrets_file.close()\n",
    "\n",
    "bittrex = Bittrex(secrets['key'], secrets['secret'], api_version=API_V1_1)\n",
    "coinmarketcap = Pymarketcap()"
   ]
  },
  {
   "cell_type": "markdown",
   "metadata": {},
   "source": [
    "### Useful Library Wrappers + Trading Simulator"
   ]
  },
  {
   "cell_type": "code",
   "execution_count": 3,
   "metadata": {
    "collapsed": true
   },
   "outputs": [],
   "source": [
    "# INPUT:  ticket (string)\n",
    "# OUTPUT: available balance (float)\n",
    "def get_avail_balance(coin):\n",
    "    return bittrex.get_balance(coin)['result']['Available']\n",
    "\n",
    "# INPUT:  number_top_coins (int)\n",
    "# OUTPUT: top N coin summaries\n",
    "def get_all_markets(self):\n",
    "    coins = bittrex.get_markets()['result']\n",
    "    return [coins[i]['MarketName'] for i in range(len(coins))]\n",
    "\n",
    "# INPUT:  market pair (string)\n",
    "# OUTPUT: current ask price\n",
    "def get_ask_price(market):\n",
    "    return bittrex.get_ticker(market)['result']['Ask']\n",
    "\n",
    "# INPUT:  coin symbol (string)\n",
    "# OUTPUT: whether coin is available on Bittrex (Bool)\n",
    "def is_on_bittrex(coin):\n",
    "    markets = get_all_markets(None)\n",
    "    name = 'BTC-'+coin\n",
    "    c = bittrex.get_currencies()['result']\n",
    "    currencies = [c[i]['Currency'] for i in range(len(c))]\n",
    "    if coin in currencies and name in markets:\n",
    "        return True\n",
    "    return False\n",
    "\n",
    "# INPUT:  num_coins (int)\n",
    "# OUTPUT: list of coin symbols (string list)\n",
    "def get_n_gainers(time, n):\n",
    "    ret = []\n",
    "    j = 0\n",
    "    gainers = coinmarketcap.ranks('gainers',time)[time]\n",
    "    for coin in gainers:\n",
    "        if is_on_bittrex(coin['symbol']):\n",
    "            ret.append(coin['symbol'])\n",
    "            j += 1\n",
    "        if j == n:\n",
    "            break\n",
    "    return (len(ret), list(ret))\n",
    "\n",
    "# INPUT:  num_coins (int)\n",
    "# OUTPUT: list of coin symbols (string list)\n",
    "def get_n_losers(time, n):\n",
    "    ret = []\n",
    "    j = 0\n",
    "    losers = coinmarketcap.ranks('losers',time)[time]\n",
    "    for coin in losers:\n",
    "        if is_on_bittrex(coin['symbol']):\n",
    "            ret.append(coin['symbol'])\n",
    "            j += 1\n",
    "        if j == n:\n",
    "            break\n",
    "    return (len(ret), list(ret))\n",
    "\n",
    "def sort_coins_by_vol(coins):\n",
    "    #coins.sort(key=operator.itemgetter('24h_volume_usd'))\n",
    "    return sorted(coins, key=lambda k: k['24h_volume_usd']) \n",
    "\n",
    "# Buy/Sell Simulator\n",
    "class Simulator:\n",
    "    def __init__(self, tx_fee=0.01, start=1.0, verbose=False):\n",
    "        self.start = start\n",
    "        self.btc = start\n",
    "        self.tx_fee = 0.01\n",
    "        self.verbose = verbose\n",
    "        self.holdings = 0.0\n",
    "        self.fees_paid = 0.0 \n",
    "        if verbose is True:\n",
    "            print(\"Simulator initialized.\")\n",
    "    def get_btc_balance(self):\n",
    "        return self.btc\n",
    "    def print_balance(self):\n",
    "        print(\"Simulator BTC Balance: %.5f (start = %.2f)\" % (self.btc, self.start))   \n",
    "    def print_change(self):\n",
    "        x = ((-1 * self.fees_paid) + (-1 * self.holdings)) / self.start * 100.0\n",
    "        print(\"Net change in value was %.3f%%\" % x)\n",
    "    def buy(self, coin, amt_in_btc):\n",
    "        start = time.time()\n",
    "        # get market price\n",
    "        price = get_ask_price('BTC-'+str(coin))\n",
    "        if price is None:\n",
    "            return 0\n",
    "        # calculate how many coins we can buy (factoring in fee)\n",
    "        num_to_buy = ((1.0 - self.tx_fee) * amt_in_btc) / price\n",
    "        self.fees_paid += self.tx_fee * amt_in_btc\n",
    "        self.btc -= amt_in_btc\n",
    "        self.holdings += num_to_buy * price\n",
    "        if self.verbose is True:\n",
    "            print(str(datetime.now())+\" - bought %.3f %s at %.7f BTC for a total purchase of %.7f BTC.\" % (num_to_buy, coin, price, amt_in_btc))\n",
    "            #print(\"Buy execution time: %.2f s\" % (time.time()-start))\n",
    "        return num_to_buy       \n",
    "    def sell(self, coin, num):\n",
    "        start = time.time()\n",
    "        price = get_ask_price('BTC-'+str(coin))\n",
    "        if price is None:\n",
    "            return 0\n",
    "        amt_profit = (1.0 - self.tx_fee) * num * price\n",
    "        self.fees_paid += self.tx_fee * num * price\n",
    "        self.btc += amt_profit\n",
    "        self.holdings -= num * price\n",
    "        if self.verbose is True:\n",
    "            print(str(datetime.now())+\" - sold %.3f %s at %.5f BTC for a total sale of %.5f BTC.\" % (num, coin, price, amt_profit))\n",
    "            #print(\"Sell execution time: %.2f s\" % (time.time()-start))\n",
    "        return num     "
   ]
  },
  {
   "cell_type": "markdown",
   "metadata": {},
   "source": [
    "### Strategy 1:  Top-N Flip"
   ]
  },
  {
   "cell_type": "code",
   "execution_count": 4,
   "metadata": {
    "collapsed": true
   },
   "outputs": [],
   "source": [
    "# buy and sell the top N coins by hourly market gain\n",
    "class TopNTrader:\n",
    "    def __init__(self, top_n=3, mins_to_wait=5, mins_to_run=60, verbose=False, strategy=STATS_HOUR):\n",
    "        self.top_n = top_n\n",
    "        self.verbose = verbose\n",
    "        self.strategy = strategy\n",
    "        self.mins_to_wait = mins_to_wait\n",
    "        self.mins_to_run = mins_to_run\n",
    "        self.num_bought = [0]*self.top_n\n",
    "        self.num_sold = [0]*self.top_n\n",
    "        self.balance = 0.0\n",
    "        self.coins = []\n",
    "        if verbose is True:\n",
    "            print(\"TopNTrader initialized.\")\n",
    "    def get_top_n(self):\n",
    "        (l, x) = get_n_gainers(self.strategy, self.top_n)\n",
    "        self.top_n = l\n",
    "        return x\n",
    "    def wait(self):\n",
    "        if self.verbose is True:\n",
    "            print(\"Waiting for %.2f minutes...\" % self.mins_to_wait)\n",
    "        time.sleep(self.mins_to_wait * 60.0)        \n",
    "    def buy(self, f_buy):\n",
    "        self.coins = self.get_top_n()\n",
    "        for i in range(self.top_n):\n",
    "            self.num_bought[i] = f_buy(self.coins[i], (self.balance/self.top_n))  \n",
    "    def sell(self, f_sell):\n",
    "        for i in range(self.top_n):\n",
    "            self.num_sold[i] = f_sell(self.coins[i], self.num_bought[i])\n",
    "    def trade(self, f_buy, f_sell, sim):\n",
    "        timeout = time.time() + 60*self.mins_to_run\n",
    "        while time.time() < timeout:\n",
    "            self.balance = sim.get_btc_balance()\n",
    "            self.buy(f_buy)\n",
    "            self.wait()\n",
    "            self.sell(f_sell)\n",
    "            if self.verbose is True:\n",
    "                print(\"%.2f minutes remaining...\" % ((timeout-time.time())/60))"
   ]
  },
  {
   "cell_type": "markdown",
   "metadata": {},
   "source": [
    "### Testing"
   ]
  },
  {
   "cell_type": "code",
   "execution_count": 5,
   "metadata": {},
   "outputs": [
    {
     "name": "stdout",
     "output_type": "stream",
     "text": [
      "Simulator initialized.\n",
      "TopNTrader initialized.\n",
      "2017-12-03 19:23:36.920872 - bought 2981.928 SYNX at 0.0000415 BTC for a total purchase of 0.1250000 BTC.\n",
      "2017-12-03 19:23:37.921479 - bought 69.849 SLS at 0.0017717 BTC for a total purchase of 0.1250000 BTC.\n",
      "2017-12-03 19:23:38.927223 - bought 1248.739 GRS at 0.0000991 BTC for a total purchase of 0.1250000 BTC.\n",
      "2017-12-03 19:23:39.848628 - bought 18553.223 DOPE at 0.0000067 BTC for a total purchase of 0.1250000 BTC.\n",
      "2017-12-03 19:23:40.860513 - bought 12132.353 THC at 0.0000102 BTC for a total purchase of 0.1250000 BTC.\n",
      "2017-12-03 19:23:41.944763 - bought 335.566 TKS at 0.0003688 BTC for a total purchase of 0.1250000 BTC.\n",
      "2017-12-03 19:23:42.867924 - bought 1633.448 TIX at 0.0000758 BTC for a total purchase of 0.1250000 BTC.\n",
      "2017-12-03 19:23:44.864199 - bought 202.869 IOP at 0.0006100 BTC for a total purchase of 0.1250000 BTC.\n",
      "Waiting for 2.00 minutes...\n",
      "2017-12-03 19:25:45.019949 - sold 2981.928 SYNX at 0.00004 BTC for a total sale of 0.11841 BTC.\n",
      "2017-12-03 19:25:45.916926 - sold 69.849 SLS at 0.00179 BTC for a total sale of 0.12412 BTC.\n",
      "2017-12-03 19:25:47.050578 - sold 1248.739 GRS at 0.00010 BTC for a total sale of 0.12733 BTC.\n",
      "2017-12-03 19:25:48.991593 - sold 18553.223 DOPE at 0.00001 BTC for a total sale of 0.12453 BTC.\n",
      "2017-12-03 19:25:49.132434 - sold 12132.353 THC at 0.00001 BTC for a total sale of 0.12311 BTC.\n",
      "2017-12-03 19:25:50.047438 - sold 335.566 TKS at 0.00036 BTC for a total sale of 0.12078 BTC.\n",
      "2017-12-03 19:25:51.041156 - sold 1633.448 TIX at 0.00008 BTC for a total sale of 0.12208 BTC.\n",
      "2017-12-03 19:25:52.135466 - sold 202.869 IOP at 0.00061 BTC for a total sale of 0.12346 BTC.\n",
      "12.73 minutes remaining...\n",
      "2017-12-03 19:26:52.150761 - bought 3163.930 SYNX at 0.0000385 BTC for a total purchase of 0.1229778 BTC.\n",
      "2017-12-03 19:26:53.151071 - bought 67.830 SLS at 0.0017949 BTC for a total purchase of 0.1229778 BTC.\n",
      "2017-12-03 19:26:54.285399 - bought 1159.837 GRS at 0.0001050 BTC for a total purchase of 0.1229778 BTC.\n",
      "2017-12-03 19:26:55.472592 - bought 17983.462 DOPE at 0.0000068 BTC for a total purchase of 0.1229778 BTC.\n",
      "2017-12-03 19:26:56.180064 - bought 11971.292 THC at 0.0000102 BTC for a total purchase of 0.1229778 BTC.\n",
      "2017-12-03 19:26:57.156427 - bought 335.986 TKS at 0.0003624 BTC for a total purchase of 0.1229778 BTC.\n",
      "2017-12-03 19:26:58.379105 - bought 1613.198 TIX at 0.0000755 BTC for a total purchase of 0.1229778 BTC.\n",
      "2017-12-03 19:26:59.090200 - bought 198.061 IOP at 0.0006147 BTC for a total purchase of 0.1229778 BTC.\n",
      "Waiting for 2.00 minutes...\n",
      "2017-12-03 19:57:48.635346 - sold 3163.930 SYNX at 0.00004 BTC for a total sale of 0.12037 BTC.\n",
      "2017-12-03 19:57:49.555838 - sold 67.830 SLS at 0.00177 BTC for a total sale of 0.11906 BTC.\n",
      "2017-12-03 19:57:50.564196 - sold 1159.837 GRS at 0.00010 BTC for a total sale of 0.11761 BTC.\n",
      "2017-12-03 19:57:51.645197 - sold 17983.462 DOPE at 0.00001 BTC for a total sale of 0.11608 BTC.\n",
      "2017-12-03 19:57:52.671624 - sold 11971.292 THC at 0.00001 BTC for a total sale of 0.11342 BTC.\n",
      "2017-12-03 19:57:53.652596 - sold 335.986 TKS at 0.00040 BTC for a total sale of 0.13471 BTC.\n",
      "2017-12-03 19:57:54.555357 - sold 1613.198 TIX at 0.00007 BTC for a total sale of 0.11828 BTC.\n",
      "2017-12-03 19:57:55.559171 - sold 198.061 IOP at 0.00067 BTC for a total sale of 0.13125 BTC.\n",
      "-19.32 minutes remaining...\n",
      "Simulator BTC Balance: 0.97078 (start = 1.00)\n",
      "Net change in value was -2.922%\n"
     ]
    }
   ],
   "source": [
    "# simulator instance\n",
    "sim = Simulator(tx_fee = 0.0007, verbose = True, start=1.0)    \n",
    "\n",
    "# Top-N Trader instance\n",
    "top_n = TopNTrader(top_n=10,mins_to_wait=2,mins_to_run=16,verbose=True)\n",
    "\n",
    "# trade\n",
    "top_n.trade(sim.buy, sim.sell, sim)\n",
    "\n",
    "# results\n",
    "sim.print_balance()\n",
    "sim.print_change()"
   ]
  },
  {
   "cell_type": "markdown",
   "metadata": {},
   "source": [
    "### Strategy 2:  Volume"
   ]
  },
  {
   "cell_type": "code",
   "execution_count": null,
   "metadata": {
    "collapsed": true
   },
   "outputs": [],
   "source": [
    "# buy and sell the top N coins by hourly market gain\n",
    "class VolumeTrader:\n",
    "    def __init__(self, top_n=3, mins_to_wait=5, mins_to_run=60):\n",
    "        self.top_n = top_n\n",
    "        self.mins_to_wait = mins_to_wait\n",
    "        self.num_bought = [0]*self.top_n\n",
    "        self.num_sold = [0]*self.top_n\n",
    "        self.coins = []\n",
    "    def get_top_n(self):\n",
    "        return get_n_gainers(STATS_HOUR, self.top_n)\n",
    "    def wait(self):\n",
    "        time.sleep(mins_to_wait * 60)        \n",
    "    def buy(self, f_buy):\n",
    "        self.coins = self.get_top_n()\n",
    "        for i in range(self.top_n):\n",
    "            self.num_bought[i] = f_buy(self.coins[i], 1.0/top_n)   \n",
    "    def sell(self, f_sell):\n",
    "        for i in range(self.top_n):\n",
    "            self.num_sold[i] = f_sell(self.coins[i], self.num_bought[i])"
   ]
  },
  {
   "cell_type": "code",
   "execution_count": 7,
   "metadata": {},
   "outputs": [
    {
     "data": {
      "text/plain": [
       "(3, ['SYNX', 'POT', 'MEME'])"
      ]
     },
     "execution_count": 7,
     "metadata": {},
     "output_type": "execute_result"
    }
   ],
   "source": [
    "get_n_losers(STATS_HOUR, 3)"
   ]
  }
 ],
 "metadata": {
  "kernelspec": {
   "display_name": "Python 2",
   "language": "python",
   "name": "python2"
  },
  "language_info": {
   "codemirror_mode": {
    "name": "ipython",
    "version": 2
   },
   "file_extension": ".py",
   "mimetype": "text/x-python",
   "name": "python",
   "nbconvert_exporter": "python",
   "pygments_lexer": "ipython2",
   "version": "2.7.13"
  }
 },
 "nbformat": 4,
 "nbformat_minor": 2
}
